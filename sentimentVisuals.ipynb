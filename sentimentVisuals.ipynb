{
 "cells": [
  {
   "cell_type": "code",
   "execution_count": 6,
   "metadata": {},
   "outputs": [],
   "source": [
    "import pandas as pd\n",
    "import numpy as np\n",
    "import matplotlib.pyplot as plt\n",
    "%matplotlib inline\n",
    "import csv\n",
    "import seaborn as sns"
   ]
  },
  {
   "cell_type": "code",
   "execution_count": 7,
   "metadata": {},
   "outputs": [
    {
     "data": {
      "text/html": [
       "<div>\n",
       "<style scoped>\n",
       "    .dataframe tbody tr th:only-of-type {\n",
       "        vertical-align: middle;\n",
       "    }\n",
       "\n",
       "    .dataframe tbody tr th {\n",
       "        vertical-align: top;\n",
       "    }\n",
       "\n",
       "    .dataframe thead th {\n",
       "        text-align: right;\n",
       "    }\n",
       "</style>\n",
       "<table border=\"1\" class=\"dataframe\">\n",
       "  <thead>\n",
       "    <tr style=\"text-align: right;\">\n",
       "      <th></th>\n",
       "      <th>Unnamed: 0</th>\n",
       "      <th>Unnamed: 0.1</th>\n",
       "      <th>aid</th>\n",
       "      <th>paper</th>\n",
       "      <th>author</th>\n",
       "      <th>date</th>\n",
       "      <th>url</th>\n",
       "      <th>sent</th>\n",
       "      <th>p_pos</th>\n",
       "      <th>p_neg</th>\n",
       "    </tr>\n",
       "  </thead>\n",
       "  <tbody>\n",
       "    <tr>\n",
       "      <th>0</th>\n",
       "      <td>0</td>\n",
       "      <td>0</td>\n",
       "      <td>wsj0</td>\n",
       "      <td>wsj</td>\n",
       "      <td>['Natalie Andrews', 'Louise Radnofsky', 'Krist...</td>\n",
       "      <td>NaN</td>\n",
       "      <td>https://www.wsj.com/articles/trump-calls-meeti...</td>\n",
       "      <td>pos</td>\n",
       "      <td>0.642044</td>\n",
       "      <td>0.357956</td>\n",
       "    </tr>\n",
       "    <tr>\n",
       "      <th>1</th>\n",
       "      <td>1</td>\n",
       "      <td>1</td>\n",
       "      <td>wsj1</td>\n",
       "      <td>wsj</td>\n",
       "      <td>['Sarah Krouse', 'Sarah.Krouse Wsj.Com']</td>\n",
       "      <td>NaN</td>\n",
       "      <td>https://www.wsj.com/articles/blackrock-goes-pu...</td>\n",
       "      <td>pos</td>\n",
       "      <td>0.508808</td>\n",
       "      <td>0.491192</td>\n",
       "    </tr>\n",
       "    <tr>\n",
       "      <th>2</th>\n",
       "      <td>2</td>\n",
       "      <td>2</td>\n",
       "      <td>wsj2</td>\n",
       "      <td>wsj</td>\n",
       "      <td>['Sarah Nassauer', 'Sarah.Nassauer Wsj.Com']</td>\n",
       "      <td>NaN</td>\n",
       "      <td>https://www.wsj.com/articles/gun-makers-strate...</td>\n",
       "      <td>pos</td>\n",
       "      <td>0.650000</td>\n",
       "      <td>0.350000</td>\n",
       "    </tr>\n",
       "    <tr>\n",
       "      <th>3</th>\n",
       "      <td>3</td>\n",
       "      <td>3</td>\n",
       "      <td>wsj3</td>\n",
       "      <td>wsj</td>\n",
       "      <td>[]</td>\n",
       "      <td>NaN</td>\n",
       "      <td>http://www.wsj.com/video/how-student-survivors...</td>\n",
       "      <td>pos</td>\n",
       "      <td>0.976332</td>\n",
       "      <td>0.023668</td>\n",
       "    </tr>\n",
       "    <tr>\n",
       "      <th>4</th>\n",
       "      <td>4</td>\n",
       "      <td>4</td>\n",
       "      <td>wsj4</td>\n",
       "      <td>wsj</td>\n",
       "      <td>['Heather Haddon', 'Google', 'Heather.Haddon W...</td>\n",
       "      <td>NaN</td>\n",
       "      <td>https://www.wsj.com/articles/kroger-to-stop-se...</td>\n",
       "      <td>pos</td>\n",
       "      <td>0.739436</td>\n",
       "      <td>0.260564</td>\n",
       "    </tr>\n",
       "  </tbody>\n",
       "</table>\n",
       "</div>"
      ],
      "text/plain": [
       "   Unnamed: 0  Unnamed: 0.1   aid paper  \\\n",
       "0           0             0  wsj0   wsj   \n",
       "1           1             1  wsj1   wsj   \n",
       "2           2             2  wsj2   wsj   \n",
       "3           3             3  wsj3   wsj   \n",
       "4           4             4  wsj4   wsj   \n",
       "\n",
       "                                              author date  \\\n",
       "0  ['Natalie Andrews', 'Louise Radnofsky', 'Krist...  NaN   \n",
       "1           ['Sarah Krouse', 'Sarah.Krouse Wsj.Com']  NaN   \n",
       "2       ['Sarah Nassauer', 'Sarah.Nassauer Wsj.Com']  NaN   \n",
       "3                                                 []  NaN   \n",
       "4  ['Heather Haddon', 'Google', 'Heather.Haddon W...  NaN   \n",
       "\n",
       "                                                 url sent     p_pos     p_neg  \n",
       "0  https://www.wsj.com/articles/trump-calls-meeti...  pos  0.642044  0.357956  \n",
       "1  https://www.wsj.com/articles/blackrock-goes-pu...  pos  0.508808  0.491192  \n",
       "2  https://www.wsj.com/articles/gun-makers-strate...  pos  0.650000  0.350000  \n",
       "3  http://www.wsj.com/video/how-student-survivors...  pos  0.976332  0.023668  \n",
       "4  https://www.wsj.com/articles/kroger-to-stop-se...  pos  0.739436  0.260564  "
      ]
     },
     "execution_count": 7,
     "metadata": {},
     "output_type": "execute_result"
    }
   ],
   "source": [
    "df = pd.read_csv('sentiments.csv')\n",
    "df_topics = pd.read_csv('topics-quantified_revised24.csv', header=0, index_col=0)\n",
    "df.head()"
   ]
  },
  {
   "cell_type": "code",
   "execution_count": 8,
   "metadata": {},
   "outputs": [],
   "source": [
    "df=df.drop('Unnamed: 0.1', axis=1)\n",
    "grp=df.groupby('paper').mean()\n",
    "grp['sentdiff']=grp['p_pos']-grp['p_neg']\n",
    "papers = set(df['paper'])"
   ]
  },
  {
   "cell_type": "code",
   "execution_count": 9,
   "metadata": {},
   "outputs": [
    {
     "data": {
      "text/html": [
       "<div>\n",
       "<style scoped>\n",
       "    .dataframe tbody tr th:only-of-type {\n",
       "        vertical-align: middle;\n",
       "    }\n",
       "\n",
       "    .dataframe tbody tr th {\n",
       "        vertical-align: top;\n",
       "    }\n",
       "\n",
       "    .dataframe thead th {\n",
       "        text-align: right;\n",
       "    }\n",
       "</style>\n",
       "<table border=\"1\" class=\"dataframe\">\n",
       "  <thead>\n",
       "    <tr style=\"text-align: right;\">\n",
       "      <th></th>\n",
       "      <th>Unnamed: 0</th>\n",
       "      <th>p_pos</th>\n",
       "      <th>p_neg</th>\n",
       "      <th>sentdiff</th>\n",
       "    </tr>\n",
       "    <tr>\n",
       "      <th>paper</th>\n",
       "      <th></th>\n",
       "      <th></th>\n",
       "      <th></th>\n",
       "      <th></th>\n",
       "    </tr>\n",
       "  </thead>\n",
       "  <tbody>\n",
       "    <tr>\n",
       "      <th>blaze</th>\n",
       "      <td>1945.666667</td>\n",
       "      <td>0.676215</td>\n",
       "      <td>0.323785</td>\n",
       "      <td>0.352429</td>\n",
       "    </tr>\n",
       "    <tr>\n",
       "      <th>breitbart</th>\n",
       "      <td>2420.166667</td>\n",
       "      <td>0.673804</td>\n",
       "      <td>0.326196</td>\n",
       "      <td>0.347609</td>\n",
       "    </tr>\n",
       "    <tr>\n",
       "      <th>fox</th>\n",
       "      <td>2270.166667</td>\n",
       "      <td>0.633744</td>\n",
       "      <td>0.366256</td>\n",
       "      <td>0.267487</td>\n",
       "    </tr>\n",
       "    <tr>\n",
       "      <th>huffpo</th>\n",
       "      <td>2567.166667</td>\n",
       "      <td>0.672732</td>\n",
       "      <td>0.327268</td>\n",
       "      <td>0.345463</td>\n",
       "    </tr>\n",
       "    <tr>\n",
       "      <th>inforwars</th>\n",
       "      <td>2767.500000</td>\n",
       "      <td>0.662066</td>\n",
       "      <td>0.337934</td>\n",
       "      <td>0.324132</td>\n",
       "    </tr>\n",
       "    <tr>\n",
       "      <th>msnbc</th>\n",
       "      <td>1777.666667</td>\n",
       "      <td>0.707671</td>\n",
       "      <td>0.292329</td>\n",
       "      <td>0.415343</td>\n",
       "    </tr>\n",
       "    <tr>\n",
       "      <th>nation</th>\n",
       "      <td>2677.166667</td>\n",
       "      <td>0.354428</td>\n",
       "      <td>0.645572</td>\n",
       "      <td>-0.291145</td>\n",
       "    </tr>\n",
       "    <tr>\n",
       "      <th>npr</th>\n",
       "      <td>1627.666667</td>\n",
       "      <td>0.699635</td>\n",
       "      <td>0.300365</td>\n",
       "      <td>0.399270</td>\n",
       "    </tr>\n",
       "    <tr>\n",
       "      <th>nyt</th>\n",
       "      <td>2111.666667</td>\n",
       "      <td>0.704217</td>\n",
       "      <td>0.295783</td>\n",
       "      <td>0.408434</td>\n",
       "    </tr>\n",
       "    <tr>\n",
       "      <th>wsj</th>\n",
       "      <td>1485.666667</td>\n",
       "      <td>0.699469</td>\n",
       "      <td>0.300531</td>\n",
       "      <td>0.398938</td>\n",
       "    </tr>\n",
       "  </tbody>\n",
       "</table>\n",
       "</div>"
      ],
      "text/plain": [
       "            Unnamed: 0     p_pos     p_neg  sentdiff\n",
       "paper                                               \n",
       "blaze      1945.666667  0.676215  0.323785  0.352429\n",
       "breitbart  2420.166667  0.673804  0.326196  0.347609\n",
       "fox        2270.166667  0.633744  0.366256  0.267487\n",
       "huffpo     2567.166667  0.672732  0.327268  0.345463\n",
       "inforwars  2767.500000  0.662066  0.337934  0.324132\n",
       "msnbc      1777.666667  0.707671  0.292329  0.415343\n",
       "nation     2677.166667  0.354428  0.645572 -0.291145\n",
       "npr        1627.666667  0.699635  0.300365  0.399270\n",
       "nyt        2111.666667  0.704217  0.295783  0.408434\n",
       "wsj        1485.666667  0.699469  0.300531  0.398938"
      ]
     },
     "execution_count": 9,
     "metadata": {},
     "output_type": "execute_result"
    }
   ],
   "source": [
    "grp"
   ]
  },
  {
   "cell_type": "code",
   "execution_count": 10,
   "metadata": {},
   "outputs": [
    {
     "data": {
      "text/plain": [
       "[Text(0,0,'huffpo'),\n",
       " Text(0,0,'nation'),\n",
       " Text(0,0,'wsj'),\n",
       " Text(0,0,'breitbart'),\n",
       " Text(0,0,'inforwars'),\n",
       " Text(0,0,'blaze'),\n",
       " Text(0,0,'npr'),\n",
       " Text(0,0,'fox'),\n",
       " Text(0,0,'msnbc'),\n",
       " Text(0,0,'nyt')]"
      ]
     },
     "execution_count": 10,
     "metadata": {},
     "output_type": "execute_result"
    },
    {
     "data": {
      "image/png": "[encoded data removed]",
      "text/plain": [
       "<matplotlib.figure.Figure at 0x1a11a115f8>"
      ]
     },
     "metadata": {},
     "output_type": "display_data"
    }
   ],
   "source": [
    "ind = np.arange(len(grp['p_neg']))\n",
    "width = 0.35\n",
    "\n",
    "fig, ax = plt.subplots()\n",
    "rects1 = ax.barh(ind - width/2, grp['p_neg'], width)\n",
    "\n",
    "ax.set_ylabel('Amount of negativity')\n",
    "ax.set_title('Negative Sentiment of the First Sentence')\n",
    "ax.set_yticks(ind)\n",
    "ax.set_yticklabels(papers)\n"
   ]
  },
  {
   "cell_type": "code",
   "execution_count": null,
   "metadata": {},
   "outputs": [],
   "source": [
    "foxs=df[df['paper']=='fox']\n",
    "huffpos = df[df['paper']=='huffpo']"
   ]
  },
  {
   "cell_type": "code",
   "execution_count": null,
   "metadata": {},
   "outputs": [],
   "source": [
    "huffpos.plot.line(x=huffpos.date, y='p_neg', figsize=(12,3))"
   ]
  },
  {
   "cell_type": "code",
   "execution_count": null,
   "metadata": {},
   "outputs": [],
   "source": [
    "nprs=df[df['paper']=='npr']\n",
    "nprs.head()"
   ]
  },
  {
   "cell_type": "code",
   "execution_count": null,
   "metadata": {},
   "outputs": [],
   "source": [
    "nprs.plot.line(x=nprs.date, y='p_pos', figsize=(12,3))"
   ]
  },
  {
   "cell_type": "code",
   "execution_count": null,
   "metadata": {},
   "outputs": [],
   "source": [
    "fox_pos=df[(df['paper']=='fox') & (df['p_pos']>.75)]"
   ]
  },
  {
   "cell_type": "code",
   "execution_count": null,
   "metadata": {},
   "outputs": [],
   "source": [
    "df_content = pd.read_csv('cleandataset.csv', header=0, index_col=0)\n",
    "df_content.head()"
   ]
  },
  {
   "cell_type": "code",
   "execution_count": null,
   "metadata": {},
   "outputs": [],
   "source": [
    "df_content_fox = df_content[df_content['paper']=='fox']\n",
    "df_content_fox.head()"
   ]
  },
  {
   "cell_type": "code",
   "execution_count": null,
   "metadata": {},
   "outputs": [],
   "source": [
    "#join this dataset on the aid, but from df_content_fox, only keep content & clean content"
   ]
  },
  {
   "cell_type": "code",
   "execution_count": null,
   "metadata": {},
   "outputs": [],
   "source": []
  }
 ],
 "metadata": {
  "kernelspec": {
   "display_name": "Python 3",
   "language": "python",
   "name": "python3"
  },
  "language_info": {
   "codemirror_mode": {
    "name": "ipython",
    "version": 3
   },
   "file_extension": ".py",
   "mimetype": "text/x-python",
   "name": "python",
   "nbconvert_exporter": "python",
   "pygments_lexer": "ipython3",
   "version": "3.6.4"
  }
 },
 "nbformat": 4,
 "nbformat_minor": 2
}
