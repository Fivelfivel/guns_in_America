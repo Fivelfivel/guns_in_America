{
 "cells": [
  {
   "cell_type": "code",
   "execution_count": 6,
   "metadata": {},
   "outputs": [],
   "source": [
    "import pandas as pd\n",
    "import numpy as np\n",
    "import matplotlib.pyplot as plt\n",
    "%matplotlib inline\n",
    "import csv\n",
    "import seaborn as sns"
   ]
  },
  {
   "cell_type": "code",
   "execution_count": 19,
   "metadata": {},
   "outputs": [
    {
     "data": {
      "text/html": [
       "<div>\n",
       "<style scoped>\n",
       "    .dataframe tbody tr th:only-of-type {\n",
       "        vertical-align: middle;\n",
       "    }\n",
       "\n",
       "    .dataframe tbody tr th {\n",
       "        vertical-align: top;\n",
       "    }\n",
       "\n",
       "    .dataframe thead th {\n",
       "        text-align: right;\n",
       "    }\n",
       "</style>\n",
       "<table border=\"1\" class=\"dataframe\">\n",
       "  <thead>\n",
       "    <tr style=\"text-align: right;\">\n",
       "      <th></th>\n",
       "      <th>aid</th>\n",
       "      <th>paper</th>\n",
       "      <th>author</th>\n",
       "      <th>date</th>\n",
       "      <th>url</th>\n",
       "      <th>sent</th>\n",
       "      <th>p_pos</th>\n",
       "      <th>p_neg</th>\n",
       "    </tr>\n",
       "  </thead>\n",
       "  <tbody>\n",
       "    <tr>\n",
       "      <th>0</th>\n",
       "      <td>wsj0</td>\n",
       "      <td>wsj</td>\n",
       "      <td>['Natalie Andrews', 'Louise Radnofsky', 'Krist...</td>\n",
       "      <td>NaN</td>\n",
       "      <td>https://www.wsj.com/articles/trump-calls-meeti...</td>\n",
       "      <td>pos</td>\n",
       "      <td>0.642044</td>\n",
       "      <td>0.357956</td>\n",
       "    </tr>\n",
       "    <tr>\n",
       "      <th>1</th>\n",
       "      <td>wsj1</td>\n",
       "      <td>wsj</td>\n",
       "      <td>['Sarah Krouse', 'Sarah.Krouse Wsj.Com']</td>\n",
       "      <td>NaN</td>\n",
       "      <td>https://www.wsj.com/articles/blackrock-goes-pu...</td>\n",
       "      <td>pos</td>\n",
       "      <td>0.508808</td>\n",
       "      <td>0.491192</td>\n",
       "    </tr>\n",
       "    <tr>\n",
       "      <th>2</th>\n",
       "      <td>wsj2</td>\n",
       "      <td>wsj</td>\n",
       "      <td>['Sarah Nassauer', 'Sarah.Nassauer Wsj.Com']</td>\n",
       "      <td>NaN</td>\n",
       "      <td>https://www.wsj.com/articles/gun-makers-strate...</td>\n",
       "      <td>pos</td>\n",
       "      <td>0.650000</td>\n",
       "      <td>0.350000</td>\n",
       "    </tr>\n",
       "    <tr>\n",
       "      <th>3</th>\n",
       "      <td>wsj3</td>\n",
       "      <td>wsj</td>\n",
       "      <td>[]</td>\n",
       "      <td>NaN</td>\n",
       "      <td>http://www.wsj.com/video/how-student-survivors...</td>\n",
       "      <td>pos</td>\n",
       "      <td>0.976332</td>\n",
       "      <td>0.023668</td>\n",
       "    </tr>\n",
       "    <tr>\n",
       "      <th>4</th>\n",
       "      <td>wsj4</td>\n",
       "      <td>wsj</td>\n",
       "      <td>['Heather Haddon', 'Google', 'Heather.Haddon W...</td>\n",
       "      <td>NaN</td>\n",
       "      <td>https://www.wsj.com/articles/kroger-to-stop-se...</td>\n",
       "      <td>pos</td>\n",
       "      <td>0.739436</td>\n",
       "      <td>0.260564</td>\n",
       "    </tr>\n",
       "  </tbody>\n",
       "</table>\n",
       "</div>"
      ],
      "text/plain": [
       "    aid paper                                             author date  \\\n",
       "0  wsj0   wsj  ['Natalie Andrews', 'Louise Radnofsky', 'Krist...  NaN   \n",
       "1  wsj1   wsj           ['Sarah Krouse', 'Sarah.Krouse Wsj.Com']  NaN   \n",
       "2  wsj2   wsj       ['Sarah Nassauer', 'Sarah.Nassauer Wsj.Com']  NaN   \n",
       "3  wsj3   wsj                                                 []  NaN   \n",
       "4  wsj4   wsj  ['Heather Haddon', 'Google', 'Heather.Haddon W...  NaN   \n",
       "\n",
       "                                                 url sent     p_pos     p_neg  \n",
       "0  https://www.wsj.com/articles/trump-calls-meeti...  pos  0.642044  0.357956  \n",
       "1  https://www.wsj.com/articles/blackrock-goes-pu...  pos  0.508808  0.491192  \n",
       "2  https://www.wsj.com/articles/gun-makers-strate...  pos  0.650000  0.350000  \n",
       "3  http://www.wsj.com/video/how-student-survivors...  pos  0.976332  0.023668  \n",
       "4  https://www.wsj.com/articles/kroger-to-stop-se...  pos  0.739436  0.260564  "
      ]
     },
     "execution_count": 19,
     "metadata": {},
     "output_type": "execute_result"
    }
   ],
   "source": [
    "df = pd.read_csv('sentiments.csv')\n",
    "df_topics = pd.read_csv('topics-quantified_revised24.csv', header=0, index_col=0)\n",
    "df=df.drop('Unnamed: 0.1', axis=1)\n",
    "df=df.drop('Unnamed: 0', axis=1)\n",
    "df.head()"
   ]
  },
  {
   "cell_type": "code",
   "execution_count": 22,
   "metadata": {},
   "outputs": [
    {
     "name": "stderr",
     "output_type": "stream",
     "text": [
      "/anaconda3/lib/python3.6/site-packages/ipykernel_launcher.py:2: SettingWithCopyWarning: \n",
      "A value is trying to be set on a copy of a slice from a DataFrame.\n",
      "Try using .loc[row_indexer,col_indexer] = value instead\n",
      "\n",
      "See the caveats in the documentation: http://pandas.pydata.org/pandas-docs/stable/indexing.html#indexing-view-versus-copy\n",
      "  \n",
      "/anaconda3/lib/python3.6/site-packages/ipykernel_launcher.py:3: SettingWithCopyWarning: \n",
      "A value is trying to be set on a copy of a slice from a DataFrame.\n",
      "Try using .loc[row_indexer,col_indexer] = value instead\n",
      "\n",
      "See the caveats in the documentation: http://pandas.pydata.org/pandas-docs/stable/indexing.html#indexing-view-versus-copy\n",
      "  This is separate from the ipykernel package so we can avoid doing imports until\n"
     ]
    },
    {
     "data": {
      "text/html": [
       "<div>\n",
       "<style scoped>\n",
       "    .dataframe tbody tr th:only-of-type {\n",
       "        vertical-align: middle;\n",
       "    }\n",
       "\n",
       "    .dataframe tbody tr th {\n",
       "        vertical-align: top;\n",
       "    }\n",
       "\n",
       "    .dataframe thead th {\n",
       "        text-align: right;\n",
       "    }\n",
       "</style>\n",
       "<table border=\"1\" class=\"dataframe\">\n",
       "  <thead>\n",
       "    <tr style=\"text-align: right;\">\n",
       "      <th></th>\n",
       "      <th>aid</th>\n",
       "      <th>paper</th>\n",
       "      <th>author</th>\n",
       "      <th>date</th>\n",
       "      <th>url</th>\n",
       "      <th>sent</th>\n",
       "      <th>p_pos</th>\n",
       "      <th>p_neg</th>\n",
       "      <th>positive</th>\n",
       "      <th>negative</th>\n",
       "    </tr>\n",
       "  </thead>\n",
       "  <tbody>\n",
       "    <tr>\n",
       "      <th>3</th>\n",
       "      <td>wsj3</td>\n",
       "      <td>wsj</td>\n",
       "      <td>[]</td>\n",
       "      <td>NaN</td>\n",
       "      <td>http://www.wsj.com/video/how-student-survivors...</td>\n",
       "      <td>pos</td>\n",
       "      <td>0.976332</td>\n",
       "      <td>0.023668</td>\n",
       "      <td>1</td>\n",
       "      <td>0</td>\n",
       "    </tr>\n",
       "    <tr>\n",
       "      <th>4</th>\n",
       "      <td>wsj4</td>\n",
       "      <td>wsj</td>\n",
       "      <td>['Heather Haddon', 'Google', 'Heather.Haddon W...</td>\n",
       "      <td>NaN</td>\n",
       "      <td>https://www.wsj.com/articles/kroger-to-stop-se...</td>\n",
       "      <td>pos</td>\n",
       "      <td>0.739436</td>\n",
       "      <td>0.260564</td>\n",
       "      <td>1</td>\n",
       "      <td>0</td>\n",
       "    </tr>\n",
       "    <tr>\n",
       "      <th>5</th>\n",
       "      <td>wsj5</td>\n",
       "      <td>wsj</td>\n",
       "      <td>['Jason L. Riley', 'Jason.Riley Wsj.Com']</td>\n",
       "      <td>NaN</td>\n",
       "      <td>https://www.wsj.com/articles/gun-control-misse...</td>\n",
       "      <td>pos</td>\n",
       "      <td>0.999709</td>\n",
       "      <td>0.000291</td>\n",
       "      <td>1</td>\n",
       "      <td>0</td>\n",
       "    </tr>\n",
       "    <tr>\n",
       "      <th>6</th>\n",
       "      <td>wsj6</td>\n",
       "      <td>wsj</td>\n",
       "      <td>['Vanessa Fuhrmans', 'Rachel Feintzeig', 'Vane...</td>\n",
       "      <td>NaN</td>\n",
       "      <td>https://www.wsj.com/articles/ceos-choose-sides...</td>\n",
       "      <td>pos</td>\n",
       "      <td>0.739436</td>\n",
       "      <td>0.260564</td>\n",
       "      <td>1</td>\n",
       "      <td>0</td>\n",
       "    </tr>\n",
       "    <tr>\n",
       "      <th>7</th>\n",
       "      <td>wsj7</td>\n",
       "      <td>wsj</td>\n",
       "      <td>['Jon Kamp', 'Shibani Mahtani', 'Jon.Kamp Wsj....</td>\n",
       "      <td>NaN</td>\n",
       "      <td>https://www.wsj.com/articles/states-consider-l...</td>\n",
       "      <td>pos</td>\n",
       "      <td>0.999902</td>\n",
       "      <td>0.000098</td>\n",
       "      <td>1</td>\n",
       "      <td>0</td>\n",
       "    </tr>\n",
       "  </tbody>\n",
       "</table>\n",
       "</div>"
      ],
      "text/plain": [
       "    aid paper                                             author date  \\\n",
       "3  wsj3   wsj                                                 []  NaN   \n",
       "4  wsj4   wsj  ['Heather Haddon', 'Google', 'Heather.Haddon W...  NaN   \n",
       "5  wsj5   wsj          ['Jason L. Riley', 'Jason.Riley Wsj.Com']  NaN   \n",
       "6  wsj6   wsj  ['Vanessa Fuhrmans', 'Rachel Feintzeig', 'Vane...  NaN   \n",
       "7  wsj7   wsj  ['Jon Kamp', 'Shibani Mahtani', 'Jon.Kamp Wsj....  NaN   \n",
       "\n",
       "                                                 url sent     p_pos     p_neg  \\\n",
       "3  http://www.wsj.com/video/how-student-survivors...  pos  0.976332  0.023668   \n",
       "4  https://www.wsj.com/articles/kroger-to-stop-se...  pos  0.739436  0.260564   \n",
       "5  https://www.wsj.com/articles/gun-control-misse...  pos  0.999709  0.000291   \n",
       "6  https://www.wsj.com/articles/ceos-choose-sides...  pos  0.739436  0.260564   \n",
       "7  https://www.wsj.com/articles/states-consider-l...  pos  0.999902  0.000098   \n",
       "\n",
       "   positive  negative  \n",
       "3         1         0  \n",
       "4         1         0  \n",
       "5         1         0  \n",
       "6         1         0  \n",
       "7         1         0  "
      ]
     },
     "execution_count": 22,
     "metadata": {},
     "output_type": "execute_result"
    }
   ],
   "source": [
    "df_sent = df[(df.p_pos >= 0.65) | (df.p_neg >= 0.65)]\n",
    "df_sent['positive']= np.where(df_sent['p_pos']>=0.65, 1, 0)\n",
    "df_sent['negative']= np.where(df_sent['p_neg']>=0.65, 1, 0)\n",
    "df_sent.head()"
   ]
  },
  {
   "cell_type": "code",
   "execution_count": 30,
   "metadata": {},
   "outputs": [],
   "source": [
    "grp=df_sent.groupby('paper').sum()\n",
    "grp['neg_ratio'] = (grp['negative']/(grp['positive']+grp['negative']))*100"
   ]
  },
  {
   "cell_type": "code",
   "execution_count": 31,
   "metadata": {},
   "outputs": [
    {
     "data": {
      "text/html": [
       "<div>\n",
       "<style scoped>\n",
       "    .dataframe tbody tr th:only-of-type {\n",
       "        vertical-align: middle;\n",
       "    }\n",
       "\n",
       "    .dataframe tbody tr th {\n",
       "        vertical-align: top;\n",
       "    }\n",
       "\n",
       "    .dataframe thead th {\n",
       "        text-align: right;\n",
       "    }\n",
       "</style>\n",
       "<table border=\"1\" class=\"dataframe\">\n",
       "  <thead>\n",
       "    <tr style=\"text-align: right;\">\n",
       "      <th></th>\n",
       "      <th>p_pos</th>\n",
       "      <th>p_neg</th>\n",
       "      <th>positive</th>\n",
       "      <th>negative</th>\n",
       "      <th>neg_ratio</th>\n",
       "    </tr>\n",
       "    <tr>\n",
       "      <th>paper</th>\n",
       "      <th></th>\n",
       "      <th></th>\n",
       "      <th></th>\n",
       "      <th></th>\n",
       "      <th></th>\n",
       "    </tr>\n",
       "  </thead>\n",
       "  <tbody>\n",
       "    <tr>\n",
       "      <th>blaze</th>\n",
       "      <td>304.059131</td>\n",
       "      <td>121.940869</td>\n",
       "      <td>327</td>\n",
       "      <td>99</td>\n",
       "      <td>23.239437</td>\n",
       "    </tr>\n",
       "    <tr>\n",
       "      <th>breitbart</th>\n",
       "      <td>240.548730</td>\n",
       "      <td>95.451270</td>\n",
       "      <td>252</td>\n",
       "      <td>84</td>\n",
       "      <td>25.000000</td>\n",
       "    </tr>\n",
       "    <tr>\n",
       "      <th>fox</th>\n",
       "      <td>251.689687</td>\n",
       "      <td>129.310313</td>\n",
       "      <td>264</td>\n",
       "      <td>117</td>\n",
       "      <td>30.708661</td>\n",
       "    </tr>\n",
       "    <tr>\n",
       "      <th>huffpo</th>\n",
       "      <td>226.523674</td>\n",
       "      <td>70.476326</td>\n",
       "      <td>246</td>\n",
       "      <td>51</td>\n",
       "      <td>17.171717</td>\n",
       "    </tr>\n",
       "    <tr>\n",
       "      <th>inforwars</th>\n",
       "      <td>179.868102</td>\n",
       "      <td>74.131898</td>\n",
       "      <td>184</td>\n",
       "      <td>70</td>\n",
       "      <td>27.559055</td>\n",
       "    </tr>\n",
       "    <tr>\n",
       "      <th>msnbc</th>\n",
       "      <td>301.691989</td>\n",
       "      <td>97.308011</td>\n",
       "      <td>321</td>\n",
       "      <td>78</td>\n",
       "      <td>19.548872</td>\n",
       "    </tr>\n",
       "    <tr>\n",
       "      <th>nation</th>\n",
       "      <td>70.712675</td>\n",
       "      <td>133.287325</td>\n",
       "      <td>27</td>\n",
       "      <td>177</td>\n",
       "      <td>86.764706</td>\n",
       "    </tr>\n",
       "    <tr>\n",
       "      <th>npr</th>\n",
       "      <td>243.713300</td>\n",
       "      <td>80.286700</td>\n",
       "      <td>255</td>\n",
       "      <td>69</td>\n",
       "      <td>21.296296</td>\n",
       "    </tr>\n",
       "    <tr>\n",
       "      <th>nyt</th>\n",
       "      <td>279.576987</td>\n",
       "      <td>86.423013</td>\n",
       "      <td>306</td>\n",
       "      <td>60</td>\n",
       "      <td>16.393443</td>\n",
       "    </tr>\n",
       "    <tr>\n",
       "      <th>wsj</th>\n",
       "      <td>252.075525</td>\n",
       "      <td>77.924475</td>\n",
       "      <td>273</td>\n",
       "      <td>57</td>\n",
       "      <td>17.272727</td>\n",
       "    </tr>\n",
       "  </tbody>\n",
       "</table>\n",
       "</div>"
      ],
      "text/plain": [
       "                p_pos       p_neg  positive  negative  neg_ratio\n",
       "paper                                                           \n",
       "blaze      304.059131  121.940869       327        99  23.239437\n",
       "breitbart  240.548730   95.451270       252        84  25.000000\n",
       "fox        251.689687  129.310313       264       117  30.708661\n",
       "huffpo     226.523674   70.476326       246        51  17.171717\n",
       "inforwars  179.868102   74.131898       184        70  27.559055\n",
       "msnbc      301.691989   97.308011       321        78  19.548872\n",
       "nation      70.712675  133.287325        27       177  86.764706\n",
       "npr        243.713300   80.286700       255        69  21.296296\n",
       "nyt        279.576987   86.423013       306        60  16.393443\n",
       "wsj        252.075525   77.924475       273        57  17.272727"
      ]
     },
     "execution_count": 31,
     "metadata": {},
     "output_type": "execute_result"
    }
   ],
   "source": [
    "grp"
   ]
  },
  {
   "cell_type": "code",
   "execution_count": 34,
   "metadata": {},
   "outputs": [
    {
     "data": {
      "text/plain": [
       "<matplotlib.axes._subplots.AxesSubplot at 0x1a12714d30>"
      ]
     },
     "execution_count": 34,
     "metadata": {},
     "output_type": "execute_result"
    },
    {
     "data": {
      "image/png": "[encoded data removed]",
      "text/plain": [
       "<matplotlib.figure.Figure at 0x1a12bcc2b0>"
      ]
     },
     "metadata": {},
     "output_type": "display_data"
    }
   ],
   "source": [
    "grp['neg_ratio'].plot(kind='barh', title =\"Proportion of Negative Sentiment of the First Sentence\", figsize=(15, 10), legend=True, fontsize=12)"
   ]
  },
  {
   "cell_type": "code",
   "execution_count": 32,
   "metadata": {},
   "outputs": [
    {
     "data": {
      "text/plain": [
       "[Text(0,0,'huffpo'),\n",
       " Text(0,0,'nation'),\n",
       " Text(0,0,'wsj'),\n",
       " Text(0,0,'breitbart'),\n",
       " Text(0,0,'inforwars'),\n",
       " Text(0,0,'blaze'),\n",
       " Text(0,0,'npr'),\n",
       " Text(0,0,'fox'),\n",
       " Text(0,0,'msnbc'),\n",
       " Text(0,0,'nyt')]"
      ]
     },
     "execution_count": 32,
     "metadata": {},
     "output_type": "execute_result"
    },
    {
     "data": {
      "image/png": "[encoded data removed]",
      "text/plain": [
       "<matplotlib.figure.Figure at 0x1a1cf90c18>"
      ]
     },
     "metadata": {},
     "output_type": "display_data"
    }
   ],
   "source": [
    "\n",
    "ind = np.arange(len(grp['neg_ratio']))\n",
    "width = 0.35\n",
    "\n",
    "fig, ax = plt.subplots()\n",
    "rects1 = ax.barh(ind - width/2, grp['neg_ratio'], width)\n",
    "\n",
    "ax.set_ylabel('Amount of negativity')\n",
    "ax.set_title('Negative Sentiment of the First Sentence')\n",
    "ax.set_yticks(ind)\n",
    "ax.set_yticklabels(papers)\n"
   ]
  },
  {
   "cell_type": "code",
   "execution_count": 33,
   "metadata": {},
   "outputs": [],
   "source": [
    "foxs=df[df['paper']=='fox']\n",
    "huffpos = df[df['paper']=='huffpo']"
   ]
  },
  {
   "cell_type": "code",
   "execution_count": null,
   "metadata": {},
   "outputs": [],
   "source": [
    "huffpos.plot.line(x=huffpos.date, y='p_neg', figsize=(12,3))"
   ]
  },
  {
   "cell_type": "code",
   "execution_count": null,
   "metadata": {},
   "outputs": [],
   "source": [
    "nprs=df[df['paper']=='npr']\n",
    "nprs.head()"
   ]
  },
  {
   "cell_type": "code",
   "execution_count": null,
   "metadata": {},
   "outputs": [],
   "source": [
    "nprs.plot.line(x=nprs.date, y='p_pos', figsize=(12,3))"
   ]
  },
  {
   "cell_type": "code",
   "execution_count": null,
   "metadata": {},
   "outputs": [],
   "source": [
    "fox_pos=df[(df['paper']=='fox') & (df['p_pos']>.75)]"
   ]
  },
  {
   "cell_type": "code",
   "execution_count": null,
   "metadata": {},
   "outputs": [],
   "source": [
    "df_content = pd.read_csv('cleandataset.csv', header=0, index_col=0)\n",
    "df_content.head()"
   ]
  },
  {
   "cell_type": "code",
   "execution_count": null,
   "metadata": {},
   "outputs": [],
   "source": [
    "df_content_fox = df_content[df_content['paper']=='fox']\n",
    "df_content_fox.head()"
   ]
  },
  {
   "cell_type": "code",
   "execution_count": null,
   "metadata": {},
   "outputs": [],
   "source": [
    "#join this dataset on the aid, but from df_content_fox, only keep content & clean content"
   ]
  },
  {
   "cell_type": "code",
   "execution_count": null,
   "metadata": {},
   "outputs": [],
   "source": []
  }
 ],
 "metadata": {
  "kernelspec": {
   "display_name": "Python 3",
   "language": "python",
   "name": "python3"
  },
  "language_info": {
   "codemirror_mode": {
    "name": "ipython",
    "version": 3
   },
   "file_extension": ".py",
   "mimetype": "text/x-python",
   "name": "python",
   "nbconvert_exporter": "python",
   "pygments_lexer": "ipython3",
   "version": "3.6.4"
  }
 },
 "nbformat": 4,
 "nbformat_minor": 2
}
