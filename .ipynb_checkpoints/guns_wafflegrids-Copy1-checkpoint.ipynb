{
 "cells": [
  {
   "cell_type": "code",
   "execution_count": 1,
   "metadata": {},
   "outputs": [],
   "source": [
    "import csv\n",
    "import pandas as pd\n",
    "import numpy as np\n",
    "import matplotlib.pyplot as plt\n",
    "import pywaffle\n",
    "import squarify\n",
    "%matplotlib inline"
   ]
  },
  {
   "cell_type": "code",
   "execution_count": 2,
   "metadata": {},
   "outputs": [
    {
     "data": {
      "text/plain": [
       "' This code takes the weighted topics and makes visualizations'"
      ]
     },
     "execution_count": 2,
     "metadata": {},
     "output_type": "execute_result"
    }
   ],
   "source": [
    "\"\"\" This code takes the weighted topics and makes visualizations\"\"\""
   ]
  },
  {
   "cell_type": "code",
   "execution_count": 3,
   "metadata": {},
   "outputs": [],
   "source": [
    "df_topics = pd.read_csv('topicsquantified_revised22.csv', header=0, index_col=0)\n",
    "dftopics_code = pd.read_csv('topics_list_coded22.csv', header=0)\n",
    "\n",
    "#fill in missing papers\n",
    "df_topics['paper'].fillna(method='ffill', inplace=True)\n",
    "\n",
    "#find the average weight of each topic per paper\n",
    "dfgrp=df_topics.groupby('paper').mean()"
   ]
  },
  {
   "cell_type": "code",
   "execution_count": 4,
   "metadata": {},
   "outputs": [],
   "source": [
    "#find the biggest topic for each paper\n",
    "maxes=dfgrp.idxmax(axis=1)\n",
    "\n",
    "#transpose that df\n",
    "dft=dfgrp.T\n",
    "dft['topicID']=list(range(0,22))\n",
    "\n",
    "#join the topics to the dataframe\n",
    "df=pd.merge(dft, dftopics_code, how='inner',on='topicID')\n",
    "df.drop(['topicID'], axis=1, inplace=True)"
   ]
  },
  {
   "cell_type": "code",
   "execution_count": 5,
   "metadata": {},
   "outputs": [],
   "source": [
    "outfile=open('alltopics-weights22.csv', 'w')\n",
    "df.to_csv(outfile)"
   ]
  },
  {
   "cell_type": "code",
   "execution_count": 6,
   "metadata": {},
   "outputs": [],
   "source": [
    "#average for each topic across all newspapers \n",
    "df['avg']=df.mean(axis=1)"
   ]
  },
  {
   "cell_type": "code",
   "execution_count": 7,
   "metadata": {},
   "outputs": [
    {
     "data": {
      "text/html": [
       "<div>\n",
       "<style scoped>\n",
       "    .dataframe tbody tr th:only-of-type {\n",
       "        vertical-align: middle;\n",
       "    }\n",
       "\n",
       "    .dataframe tbody tr th {\n",
       "        vertical-align: top;\n",
       "    }\n",
       "\n",
       "    .dataframe thead th {\n",
       "        text-align: right;\n",
       "    }\n",
       "</style>\n",
       "<table border=\"1\" class=\"dataframe\">\n",
       "  <thead>\n",
       "    <tr style=\"text-align: right;\">\n",
       "      <th></th>\n",
       "      <th>atlantic</th>\n",
       "      <th>blaze</th>\n",
       "      <th>breitbart</th>\n",
       "      <th>fox</th>\n",
       "      <th>huffpo</th>\n",
       "      <th>inforwars</th>\n",
       "      <th>msnbc</th>\n",
       "      <th>npr</th>\n",
       "      <th>nyt</th>\n",
       "      <th>wsj</th>\n",
       "      <th>description</th>\n",
       "      <th>general</th>\n",
       "      <th>specific</th>\n",
       "      <th>avg</th>\n",
       "    </tr>\n",
       "  </thead>\n",
       "  <tbody>\n",
       "    <tr>\n",
       "      <th>0</th>\n",
       "      <td>0.058321</td>\n",
       "      <td>0.030929</td>\n",
       "      <td>0.043086</td>\n",
       "      <td>0.036154</td>\n",
       "      <td>0.053930</td>\n",
       "      <td>0.032725</td>\n",
       "      <td>0.038163</td>\n",
       "      <td>0.050771</td>\n",
       "      <td>0.020557</td>\n",
       "      <td>0.022615</td>\n",
       "      <td>gun control violence shooting owner law mass a...</td>\n",
       "      <td>gun control</td>\n",
       "      <td>na</td>\n",
       "      <td>0.038725</td>\n",
       "    </tr>\n",
       "    <tr>\n",
       "      <th>1</th>\n",
       "      <td>0.014368</td>\n",
       "      <td>0.028919</td>\n",
       "      <td>0.016758</td>\n",
       "      <td>0.043632</td>\n",
       "      <td>0.023610</td>\n",
       "      <td>0.027971</td>\n",
       "      <td>0.017926</td>\n",
       "      <td>0.019299</td>\n",
       "      <td>0.009862</td>\n",
       "      <td>0.010794</td>\n",
       "      <td>police officer department incident city county...</td>\n",
       "      <td>incident</td>\n",
       "      <td>police</td>\n",
       "      <td>0.021314</td>\n",
       "    </tr>\n",
       "    <tr>\n",
       "      <th>2</th>\n",
       "      <td>0.020106</td>\n",
       "      <td>0.038377</td>\n",
       "      <td>0.034999</td>\n",
       "      <td>0.027204</td>\n",
       "      <td>0.032459</td>\n",
       "      <td>0.030633</td>\n",
       "      <td>0.011459</td>\n",
       "      <td>0.020673</td>\n",
       "      <td>0.008228</td>\n",
       "      <td>0.008053</td>\n",
       "      <td>ar 15 rifle automatic semi used round style sh...</td>\n",
       "      <td>gun type</td>\n",
       "      <td>ar 15</td>\n",
       "      <td>0.023219</td>\n",
       "    </tr>\n",
       "    <tr>\n",
       "      <th>3</th>\n",
       "      <td>0.016135</td>\n",
       "      <td>0.019494</td>\n",
       "      <td>0.011431</td>\n",
       "      <td>0.025134</td>\n",
       "      <td>0.028260</td>\n",
       "      <td>0.025440</td>\n",
       "      <td>0.018025</td>\n",
       "      <td>0.024382</td>\n",
       "      <td>0.030576</td>\n",
       "      <td>0.035609</td>\n",
       "      <td>school student high shooting florida parkland ...</td>\n",
       "      <td>incident</td>\n",
       "      <td>arkland</td>\n",
       "      <td>0.023449</td>\n",
       "    </tr>\n",
       "    <tr>\n",
       "      <th>4</th>\n",
       "      <td>0.014991</td>\n",
       "      <td>0.007881</td>\n",
       "      <td>0.017583</td>\n",
       "      <td>0.014745</td>\n",
       "      <td>0.014433</td>\n",
       "      <td>0.019786</td>\n",
       "      <td>0.035686</td>\n",
       "      <td>0.015262</td>\n",
       "      <td>0.014586</td>\n",
       "      <td>0.015015</td>\n",
       "      <td>trump president white house wednesday policy h...</td>\n",
       "      <td>government</td>\n",
       "      <td>trump</td>\n",
       "      <td>0.016997</td>\n",
       "    </tr>\n",
       "  </tbody>\n",
       "</table>\n",
       "</div>"
      ],
      "text/plain": [
       "   atlantic     blaze  breitbart       fox    huffpo  inforwars     msnbc  \\\n",
       "0  0.058321  0.030929   0.043086  0.036154  0.053930   0.032725  0.038163   \n",
       "1  0.014368  0.028919   0.016758  0.043632  0.023610   0.027971  0.017926   \n",
       "2  0.020106  0.038377   0.034999  0.027204  0.032459   0.030633  0.011459   \n",
       "3  0.016135  0.019494   0.011431  0.025134  0.028260   0.025440  0.018025   \n",
       "4  0.014991  0.007881   0.017583  0.014745  0.014433   0.019786  0.035686   \n",
       "\n",
       "        npr       nyt       wsj  \\\n",
       "0  0.050771  0.020557  0.022615   \n",
       "1  0.019299  0.009862  0.010794   \n",
       "2  0.020673  0.008228  0.008053   \n",
       "3  0.024382  0.030576  0.035609   \n",
       "4  0.015262  0.014586  0.015015   \n",
       "\n",
       "                                         description      general specific  \\\n",
       "0  gun control violence shooting owner law mass a...  gun control       na   \n",
       "1  police officer department incident city county...     incident   police   \n",
       "2  ar 15 rifle automatic semi used round style sh...     gun type    ar 15   \n",
       "3  school student high shooting florida parkland ...     incident  arkland   \n",
       "4  trump president white house wednesday policy h...   government    trump   \n",
       "\n",
       "        avg  \n",
       "0  0.038725  \n",
       "1  0.021314  \n",
       "2  0.023219  \n",
       "3  0.023449  \n",
       "4  0.016997  "
      ]
     },
     "execution_count": 7,
     "metadata": {},
     "output_type": "execute_result"
    }
   ],
   "source": [
    "df.head(5)"
   ]
  },
  {
   "cell_type": "code",
   "execution_count": 8,
   "metadata": {},
   "outputs": [
    {
     "data": {
      "text/html": [
       "<div>\n",
       "<style scoped>\n",
       "    .dataframe tbody tr th:only-of-type {\n",
       "        vertical-align: middle;\n",
       "    }\n",
       "\n",
       "    .dataframe tbody tr th {\n",
       "        vertical-align: top;\n",
       "    }\n",
       "\n",
       "    .dataframe thead th {\n",
       "        text-align: right;\n",
       "    }\n",
       "</style>\n",
       "<table border=\"1\" class=\"dataframe\">\n",
       "  <thead>\n",
       "    <tr style=\"text-align: right;\">\n",
       "      <th></th>\n",
       "      <th>atlantic</th>\n",
       "      <th>blaze</th>\n",
       "      <th>breitbart</th>\n",
       "      <th>fox</th>\n",
       "      <th>huffpo</th>\n",
       "      <th>inforwars</th>\n",
       "      <th>msnbc</th>\n",
       "      <th>npr</th>\n",
       "      <th>nyt</th>\n",
       "      <th>wsj</th>\n",
       "      <th>description</th>\n",
       "      <th>general</th>\n",
       "      <th>specific</th>\n",
       "      <th>avg</th>\n",
       "      <th>lib</th>\n",
       "      <th>consv</th>\n",
       "      <th>diff</th>\n",
       "    </tr>\n",
       "  </thead>\n",
       "  <tbody>\n",
       "    <tr>\n",
       "      <th>0</th>\n",
       "      <td>0.058321</td>\n",
       "      <td>0.030929</td>\n",
       "      <td>0.043086</td>\n",
       "      <td>0.036154</td>\n",
       "      <td>0.053930</td>\n",
       "      <td>0.032725</td>\n",
       "      <td>0.038163</td>\n",
       "      <td>0.050771</td>\n",
       "      <td>0.020557</td>\n",
       "      <td>0.022615</td>\n",
       "      <td>gun control violence shooting owner law mass a...</td>\n",
       "      <td>gun control</td>\n",
       "      <td>na</td>\n",
       "      <td>0.038725</td>\n",
       "      <td>0.044348</td>\n",
       "      <td>0.033102</td>\n",
       "      <td>0.011247</td>\n",
       "    </tr>\n",
       "    <tr>\n",
       "      <th>1</th>\n",
       "      <td>0.014368</td>\n",
       "      <td>0.028919</td>\n",
       "      <td>0.016758</td>\n",
       "      <td>0.043632</td>\n",
       "      <td>0.023610</td>\n",
       "      <td>0.027971</td>\n",
       "      <td>0.017926</td>\n",
       "      <td>0.019299</td>\n",
       "      <td>0.009862</td>\n",
       "      <td>0.010794</td>\n",
       "      <td>police officer department incident city county...</td>\n",
       "      <td>incident</td>\n",
       "      <td>police</td>\n",
       "      <td>0.021314</td>\n",
       "      <td>0.017013</td>\n",
       "      <td>0.025615</td>\n",
       "      <td>0.008602</td>\n",
       "    </tr>\n",
       "    <tr>\n",
       "      <th>2</th>\n",
       "      <td>0.020106</td>\n",
       "      <td>0.038377</td>\n",
       "      <td>0.034999</td>\n",
       "      <td>0.027204</td>\n",
       "      <td>0.032459</td>\n",
       "      <td>0.030633</td>\n",
       "      <td>0.011459</td>\n",
       "      <td>0.020673</td>\n",
       "      <td>0.008228</td>\n",
       "      <td>0.008053</td>\n",
       "      <td>ar 15 rifle automatic semi used round style sh...</td>\n",
       "      <td>gun type</td>\n",
       "      <td>ar 15</td>\n",
       "      <td>0.023219</td>\n",
       "      <td>0.018585</td>\n",
       "      <td>0.027853</td>\n",
       "      <td>0.009268</td>\n",
       "    </tr>\n",
       "    <tr>\n",
       "      <th>3</th>\n",
       "      <td>0.016135</td>\n",
       "      <td>0.019494</td>\n",
       "      <td>0.011431</td>\n",
       "      <td>0.025134</td>\n",
       "      <td>0.028260</td>\n",
       "      <td>0.025440</td>\n",
       "      <td>0.018025</td>\n",
       "      <td>0.024382</td>\n",
       "      <td>0.030576</td>\n",
       "      <td>0.035609</td>\n",
       "      <td>school student high shooting florida parkland ...</td>\n",
       "      <td>incident</td>\n",
       "      <td>arkland</td>\n",
       "      <td>0.023449</td>\n",
       "      <td>0.023476</td>\n",
       "      <td>0.023422</td>\n",
       "      <td>0.000054</td>\n",
       "    </tr>\n",
       "    <tr>\n",
       "      <th>4</th>\n",
       "      <td>0.014991</td>\n",
       "      <td>0.007881</td>\n",
       "      <td>0.017583</td>\n",
       "      <td>0.014745</td>\n",
       "      <td>0.014433</td>\n",
       "      <td>0.019786</td>\n",
       "      <td>0.035686</td>\n",
       "      <td>0.015262</td>\n",
       "      <td>0.014586</td>\n",
       "      <td>0.015015</td>\n",
       "      <td>trump president white house wednesday policy h...</td>\n",
       "      <td>government</td>\n",
       "      <td>trump</td>\n",
       "      <td>0.016997</td>\n",
       "      <td>0.018991</td>\n",
       "      <td>0.015002</td>\n",
       "      <td>0.003989</td>\n",
       "    </tr>\n",
       "  </tbody>\n",
       "</table>\n",
       "</div>"
      ],
      "text/plain": [
       "   atlantic     blaze  breitbart       fox    huffpo  inforwars     msnbc  \\\n",
       "0  0.058321  0.030929   0.043086  0.036154  0.053930   0.032725  0.038163   \n",
       "1  0.014368  0.028919   0.016758  0.043632  0.023610   0.027971  0.017926   \n",
       "2  0.020106  0.038377   0.034999  0.027204  0.032459   0.030633  0.011459   \n",
       "3  0.016135  0.019494   0.011431  0.025134  0.028260   0.025440  0.018025   \n",
       "4  0.014991  0.007881   0.017583  0.014745  0.014433   0.019786  0.035686   \n",
       "\n",
       "        npr       nyt       wsj  \\\n",
       "0  0.050771  0.020557  0.022615   \n",
       "1  0.019299  0.009862  0.010794   \n",
       "2  0.020673  0.008228  0.008053   \n",
       "3  0.024382  0.030576  0.035609   \n",
       "4  0.015262  0.014586  0.015015   \n",
       "\n",
       "                                         description      general specific  \\\n",
       "0  gun control violence shooting owner law mass a...  gun control       na   \n",
       "1  police officer department incident city county...     incident   police   \n",
       "2  ar 15 rifle automatic semi used round style sh...     gun type    ar 15   \n",
       "3  school student high shooting florida parkland ...     incident  arkland   \n",
       "4  trump president white house wednesday policy h...   government    trump   \n",
       "\n",
       "        avg       lib     consv      diff  \n",
       "0  0.038725  0.044348  0.033102  0.011247  \n",
       "1  0.021314  0.017013  0.025615  0.008602  \n",
       "2  0.023219  0.018585  0.027853  0.009268  \n",
       "3  0.023449  0.023476  0.023422  0.000054  \n",
       "4  0.016997  0.018991  0.015002  0.003989  "
      ]
     },
     "execution_count": 8,
     "metadata": {},
     "output_type": "execute_result"
    }
   ],
   "source": [
    "#calculate average for the liberal and conservative papers\n",
    "df['lib']=(df['nyt']+ df['npr']+ df['huffpo']+ df['atlantic']+ df['msnbc'])/5\n",
    "df['consv']=(df['fox'] +df['wsj']+ df['breitbart']+ df['inforwars']+ df['blaze'])/5\n",
    "df['diff']=abs(df['lib']-df['consv'])\n",
    "df.head(5)"
   ]
  },
  {
   "cell_type": "code",
   "execution_count": 9,
   "metadata": {},
   "outputs": [],
   "source": [
    "#exclude the topics that are meta data\n",
    "df=df[df['general'] != 'meta']"
   ]
  },
  {
   "cell_type": "code",
   "execution_count": 10,
   "metadata": {},
   "outputs": [],
   "source": [
    "#find totals for all the liberal outlets and all the conservative outlates\n",
    "ltot=df['lib'].sum()\n",
    "ctot = df['consv'].sum()"
   ]
  },
  {
   "cell_type": "code",
   "execution_count": 11,
   "metadata": {},
   "outputs": [
    {
     "data": {
      "text/html": [
       "<div>\n",
       "<style scoped>\n",
       "    .dataframe tbody tr th:only-of-type {\n",
       "        vertical-align: middle;\n",
       "    }\n",
       "\n",
       "    .dataframe tbody tr th {\n",
       "        vertical-align: top;\n",
       "    }\n",
       "\n",
       "    .dataframe thead th {\n",
       "        text-align: right;\n",
       "    }\n",
       "</style>\n",
       "<table border=\"1\" class=\"dataframe\">\n",
       "  <thead>\n",
       "    <tr style=\"text-align: right;\">\n",
       "      <th></th>\n",
       "      <th>general</th>\n",
       "      <th>atlantic</th>\n",
       "      <th>blaze</th>\n",
       "      <th>breitbart</th>\n",
       "      <th>fox</th>\n",
       "      <th>huffpo</th>\n",
       "      <th>inforwars</th>\n",
       "      <th>msnbc</th>\n",
       "      <th>npr</th>\n",
       "      <th>nyt</th>\n",
       "      <th>wsj</th>\n",
       "      <th>avg</th>\n",
       "      <th>lib</th>\n",
       "      <th>consv</th>\n",
       "      <th>diff</th>\n",
       "    </tr>\n",
       "  </thead>\n",
       "  <tbody>\n",
       "    <tr>\n",
       "      <th>0</th>\n",
       "      <td>government</td>\n",
       "      <td>0.038280</td>\n",
       "      <td>0.020374</td>\n",
       "      <td>0.034545</td>\n",
       "      <td>0.031371</td>\n",
       "      <td>0.030660</td>\n",
       "      <td>0.033011</td>\n",
       "      <td>0.071273</td>\n",
       "      <td>0.037820</td>\n",
       "      <td>0.029317</td>\n",
       "      <td>0.032681</td>\n",
       "      <td>0.035933</td>\n",
       "      <td>0.041470</td>\n",
       "      <td>0.030397</td>\n",
       "      <td>0.011073</td>\n",
       "    </tr>\n",
       "    <tr>\n",
       "      <th>1</th>\n",
       "      <td>gun control</td>\n",
       "      <td>0.058321</td>\n",
       "      <td>0.030929</td>\n",
       "      <td>0.043086</td>\n",
       "      <td>0.036154</td>\n",
       "      <td>0.053930</td>\n",
       "      <td>0.032725</td>\n",
       "      <td>0.038163</td>\n",
       "      <td>0.050771</td>\n",
       "      <td>0.020557</td>\n",
       "      <td>0.022615</td>\n",
       "      <td>0.038725</td>\n",
       "      <td>0.044348</td>\n",
       "      <td>0.033102</td>\n",
       "      <td>0.011247</td>\n",
       "    </tr>\n",
       "    <tr>\n",
       "      <th>2</th>\n",
       "      <td>gun type</td>\n",
       "      <td>0.042700</td>\n",
       "      <td>0.065907</td>\n",
       "      <td>0.074346</td>\n",
       "      <td>0.049570</td>\n",
       "      <td>0.058783</td>\n",
       "      <td>0.054569</td>\n",
       "      <td>0.035093</td>\n",
       "      <td>0.042189</td>\n",
       "      <td>0.024174</td>\n",
       "      <td>0.023459</td>\n",
       "      <td>0.047079</td>\n",
       "      <td>0.040588</td>\n",
       "      <td>0.053570</td>\n",
       "      <td>0.012982</td>\n",
       "    </tr>\n",
       "    <tr>\n",
       "      <th>3</th>\n",
       "      <td>incident</td>\n",
       "      <td>0.090602</td>\n",
       "      <td>0.137138</td>\n",
       "      <td>0.095643</td>\n",
       "      <td>0.184184</td>\n",
       "      <td>0.125775</td>\n",
       "      <td>0.128259</td>\n",
       "      <td>0.176097</td>\n",
       "      <td>0.110075</td>\n",
       "      <td>0.111857</td>\n",
       "      <td>0.121291</td>\n",
       "      <td>0.128092</td>\n",
       "      <td>0.122881</td>\n",
       "      <td>0.133303</td>\n",
       "      <td>0.036544</td>\n",
       "    </tr>\n",
       "    <tr>\n",
       "      <th>4</th>\n",
       "      <td>legal</td>\n",
       "      <td>0.118513</td>\n",
       "      <td>0.111720</td>\n",
       "      <td>0.192334</td>\n",
       "      <td>0.116332</td>\n",
       "      <td>0.131541</td>\n",
       "      <td>0.105019</td>\n",
       "      <td>0.083665</td>\n",
       "      <td>0.120842</td>\n",
       "      <td>0.081782</td>\n",
       "      <td>0.078083</td>\n",
       "      <td>0.113983</td>\n",
       "      <td>0.107268</td>\n",
       "      <td>0.120697</td>\n",
       "      <td>0.039326</td>\n",
       "    </tr>\n",
       "    <tr>\n",
       "      <th>5</th>\n",
       "      <td>sales</td>\n",
       "      <td>0.007797</td>\n",
       "      <td>0.014237</td>\n",
       "      <td>0.008480</td>\n",
       "      <td>0.015214</td>\n",
       "      <td>0.015307</td>\n",
       "      <td>0.014459</td>\n",
       "      <td>0.003485</td>\n",
       "      <td>0.021315</td>\n",
       "      <td>0.025982</td>\n",
       "      <td>0.029405</td>\n",
       "      <td>0.015568</td>\n",
       "      <td>0.014777</td>\n",
       "      <td>0.016359</td>\n",
       "      <td>0.001582</td>\n",
       "    </tr>\n",
       "  </tbody>\n",
       "</table>\n",
       "</div>"
      ],
      "text/plain": [
       "       general  atlantic     blaze  breitbart       fox    huffpo  inforwars  \\\n",
       "0   government  0.038280  0.020374   0.034545  0.031371  0.030660   0.033011   \n",
       "1  gun control  0.058321  0.030929   0.043086  0.036154  0.053930   0.032725   \n",
       "2     gun type  0.042700  0.065907   0.074346  0.049570  0.058783   0.054569   \n",
       "3     incident  0.090602  0.137138   0.095643  0.184184  0.125775   0.128259   \n",
       "4        legal  0.118513  0.111720   0.192334  0.116332  0.131541   0.105019   \n",
       "5        sales  0.007797  0.014237   0.008480  0.015214  0.015307   0.014459   \n",
       "\n",
       "      msnbc       npr       nyt       wsj       avg       lib     consv  \\\n",
       "0  0.071273  0.037820  0.029317  0.032681  0.035933  0.041470  0.030397   \n",
       "1  0.038163  0.050771  0.020557  0.022615  0.038725  0.044348  0.033102   \n",
       "2  0.035093  0.042189  0.024174  0.023459  0.047079  0.040588  0.053570   \n",
       "3  0.176097  0.110075  0.111857  0.121291  0.128092  0.122881  0.133303   \n",
       "4  0.083665  0.120842  0.081782  0.078083  0.113983  0.107268  0.120697   \n",
       "5  0.003485  0.021315  0.025982  0.029405  0.015568  0.014777  0.016359   \n",
       "\n",
       "       diff  \n",
       "0  0.011073  \n",
       "1  0.011247  \n",
       "2  0.012982  \n",
       "3  0.036544  \n",
       "4  0.039326  \n",
       "5  0.001582  "
      ]
     },
     "execution_count": 11,
     "metadata": {},
     "output_type": "execute_result"
    }
   ],
   "source": [
    "grp=df.groupby('general', as_index=False).sum()\n",
    "grp\n"
   ]
  },
  {
   "cell_type": "code",
   "execution_count": 12,
   "metadata": {},
   "outputs": [
    {
     "name": "stdout",
     "output_type": "stream",
     "text": [
      "0.3713324404998969 0.3874277777729991\n"
     ]
    }
   ],
   "source": [
    "print(ltot, ctot)"
   ]
  },
  {
   "cell_type": "code",
   "execution_count": 13,
   "metadata": {},
   "outputs": [],
   "source": [
    "labels=grp['general']\n",
    "lx={}\n",
    "for k,v in zip(labels, grp['lib']):\n",
    "    v=int((v*100)/ltot)\n",
    "    lx[k]=v\n",
    "    \n",
    "cx={}\n",
    "for k,v in zip(labels, grp['consv']):\n",
    "    v=int((v*100)/ctot)\n",
    "    cx[k]=v\n",
    "    \n"
   ]
  },
  {
   "cell_type": "code",
   "execution_count": 35,
   "metadata": {},
   "outputs": [
    {
     "data": {
      "text/plain": [
       "(0.0, 100.0, 0.0, 100.0)"
      ]
     },
     "execution_count": 35,
     "metadata": {},
     "output_type": "execute_result"
    },
    {
     "data": {
      "image/png": "[encoded data removed]",
      "text/plain": [
       "<matplotlib.figure.Figure at 0x11bc1b748>"
      ]
     },
     "metadata": {},
     "output_type": "display_data"
    }
   ],
   "source": [
    "def maketrees(polarity, polarity_dict, colors):\n",
    "    squarify.plot(polarity_dict.values(), label = [\"{0} ({1}%)\".format(k,v) for k,v in polarity_dict.items()], \n",
    "              color=colors, alpha=.4 )\n",
    "    plt.axis('off')"
   ]
  },
  {
   "cell_type": "code",
   "execution_count": null,
   "metadata": {},
   "outputs": [],
   "source": [
    "liberalcolors=[\"#08519c\", \"#3182bd\" , \"#6baed6\" , \"#9ecae1\" , '#c6dbef',\"#eff3ff\"]\n",
    "conservcolors=[\"#a50f15\", \"#de2d26\", \"#fb6a4a\", \"#fc9272\", \"#fcbba1\", \"#fee5d9\"]"
   ]
  },
  {
   "cell_type": "code",
   "execution_count": 36,
   "metadata": {},
   "outputs": [
    {
     "data": {
      "text/plain": [
       "(0.0, 100.0, 0.0, 100.0)"
      ]
     },
     "execution_count": 36,
     "metadata": {},
     "output_type": "execute_result"
    },
    {
     "data": {
      "image/png": "[encoded data removed]",
      "text/plain": [
       "<matplotlib.figure.Figure at 0x1a21e59390>"
      ]
     },
     "metadata": {},
     "output_type": "display_data"
    }
   ],
   "source": [
    "maketrees(lx, )\n",
    "squarify.plot(cx.values(), label = [\"{0} ({1}%)\".format(k,v) for k,v in cx.items()], \n",
    "              color=[\"#a50f15\", \"#de2d26\", \"#fb6a4a\", \"#fc9272\", \"#fcbba1\", \"#fee5d9\"], alpha=.4 )\n",
    "plt.axis('off')"
   ]
  },
  {
   "cell_type": "code",
   "execution_count": 27,
   "metadata": {},
   "outputs": [
    {
     "name": "stderr",
     "output_type": "stream",
     "text": [
      "/anaconda3/lib/python3.6/site-packages/matplotlib/figure.py:2022: UserWarning: This figure includes Axes that are not compatible with tight_layout, so results might be incorrect.\n",
      "  warnings.warn(\"This figure includes Axes that are not compatible \"\n"
     ]
    },
    {
     "data": {
      "image/png": "[encoded data removed]",
      "text/plain": [
       "<pywaffle.waffle.Waffle at 0x1a21a84978>"
      ]
     },
     "metadata": {},
     "output_type": "display_data"
    }
   ],
   "source": [
    "#plot the breakdown of topics in liberal outlets\n",
    "makewaffles(lx, \"Liberal\", \"libtopics\")"
   ]
  },
  {
   "cell_type": "code",
   "execution_count": 16,
   "metadata": {},
   "outputs": [
    {
     "name": "stderr",
     "output_type": "stream",
     "text": [
      "/anaconda3/lib/python3.6/site-packages/matplotlib/figure.py:2022: UserWarning: This figure includes Axes that are not compatible with tight_layout, so results might be incorrect.\n",
      "  warnings.warn(\"This figure includes Axes that are not compatible \"\n"
     ]
    },
    {
     "data": {
      "image/png": "[encoded data removed]",
      "text/plain": [
       "<pywaffle.waffle.Waffle at 0x111072860>"
      ]
     },
     "metadata": {},
     "output_type": "display_data"
    }
   ],
   "source": [
    "#plot the breakdown of topics in conservative outlets\n",
    "makewaffles(cx, \"Convervative\", \"constopics\")"
   ]
  },
  {
   "cell_type": "code",
   "execution_count": 17,
   "metadata": {},
   "outputs": [],
   "source": [
    "#What are the incident topics?\n",
    "inlabel=df[df['general']=='incident']['specific']"
   ]
  },
  {
   "cell_type": "code",
   "execution_count": 18,
   "metadata": {},
   "outputs": [],
   "source": [
    "incidentlx={}\n",
    "for k,v in zip(inlabel, df['lib']):\n",
    "    v=int((v*100)/ltot)\n",
    "    incidentlx[k]=v\n",
    "    \n",
    "incidentcx={}\n",
    "for k,v in zip(inlabel, df['consv']):\n",
    "    v=int((v*100)/ltot)\n",
    "    incidentcx[k]=v"
   ]
  },
  {
   "cell_type": "code",
   "execution_count": 19,
   "metadata": {},
   "outputs": [],
   "source": [
    "#What does the breakdown of incident topics look like for Liberal outlets\n",
    "#Find another visual for this"
   ]
  },
  {
   "cell_type": "code",
   "execution_count": 20,
   "metadata": {},
   "outputs": [],
   "source": [
    "#What does the breakdown of incident topics look like for Conservative outlets\n",
    "#Find another visual for this"
   ]
  },
  {
   "cell_type": "code",
   "execution_count": 21,
   "metadata": {},
   "outputs": [],
   "source": [
    "#turn the dataframe into a pivot table\n",
    "#pass it to seaborn"
   ]
  },
  {
   "cell_type": "code",
   "execution_count": 22,
   "metadata": {},
   "outputs": [],
   "source": [
    "grp1=grp.pivot_table(index = 'general', values = ['fox', 'wsj', 'breitbart', 'inforwars', 'blaze', 'nyt', 'npr', 'huffpo', 'atlantic', 'msnbc']\n",
    "                )"
   ]
  },
  {
   "cell_type": "code",
   "execution_count": 23,
   "metadata": {},
   "outputs": [],
   "source": [
    "import seaborn as sns"
   ]
  },
  {
   "cell_type": "code",
   "execution_count": 24,
   "metadata": {},
   "outputs": [
    {
     "data": {
      "text/plain": [
       "<matplotlib.axes._subplots.AxesSubplot at 0x1a217362b0>"
      ]
     },
     "execution_count": 24,
     "metadata": {},
     "output_type": "execute_result"
    },
    {
     "data": {
      "image/png": "[encoded data removed]",
      "text/plain": [
       "<matplotlib.figure.Figure at 0x1a2165c898>"
      ]
     },
     "metadata": {},
     "output_type": "display_data"
    }
   ],
   "source": [
    "sns.heatmap(grp1, cmap=\"Blues\")"
   ]
  },
  {
   "cell_type": "code",
   "execution_count": null,
   "metadata": {},
   "outputs": [],
   "source": []
  }
 ],
 "metadata": {
  "kernelspec": {
   "display_name": "Python 3",
   "language": "python",
   "name": "python3"
  },
  "language_info": {
   "codemirror_mode": {
    "name": "ipython",
    "version": 3
   },
   "file_extension": ".py",
   "mimetype": "text/x-python",
   "name": "python",
   "nbconvert_exporter": "python",
   "pygments_lexer": "ipython3",
   "version": "3.6.4"
  }
 },
 "nbformat": 4,
 "nbformat_minor": 2
}
