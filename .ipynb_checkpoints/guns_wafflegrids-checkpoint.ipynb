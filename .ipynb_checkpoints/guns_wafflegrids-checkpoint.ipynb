{
 "cells": [
  {
   "cell_type": "code",
   "execution_count": 169,
   "metadata": {},
   "outputs": [],
   "source": [
    "import pandas as pd\n",
    "import numpy as np\n",
    "import matplotlib.pyplot as plt\n",
    "import pywaffle\n",
    "%matplotlib inline"
   ]
  },
  {
   "cell_type": "code",
   "execution_count": 170,
   "metadata": {},
   "outputs": [],
   "source": [
    "df = pd.read_csv('alltopics-weights.csv', header=0, index_col=0)"
   ]
  },
  {
   "cell_type": "code",
   "execution_count": 171,
   "metadata": {},
   "outputs": [],
   "source": [
    "df['avg']=df.mean(axis=1)"
   ]
  },
  {
   "cell_type": "code",
   "execution_count": 172,
   "metadata": {},
   "outputs": [
    {
     "data": {
      "text/html": [
       "<div>\n",
       "<style scoped>\n",
       "    .dataframe tbody tr th:only-of-type {\n",
       "        vertical-align: middle;\n",
       "    }\n",
       "\n",
       "    .dataframe tbody tr th {\n",
       "        vertical-align: top;\n",
       "    }\n",
       "\n",
       "    .dataframe thead th {\n",
       "        text-align: right;\n",
       "    }\n",
       "</style>\n",
       "<table border=\"1\" class=\"dataframe\">\n",
       "  <thead>\n",
       "    <tr style=\"text-align: right;\">\n",
       "      <th></th>\n",
       "      <th>atlantic</th>\n",
       "      <th>blaze</th>\n",
       "      <th>breitbart</th>\n",
       "      <th>fox</th>\n",
       "      <th>huffpo</th>\n",
       "      <th>inforwars</th>\n",
       "      <th>msnbc</th>\n",
       "      <th>npr</th>\n",
       "      <th>nyt</th>\n",
       "      <th>wsj</th>\n",
       "      <th>topics</th>\n",
       "      <th>global</th>\n",
       "      <th>specific</th>\n",
       "      <th>avg</th>\n",
       "    </tr>\n",
       "  </thead>\n",
       "  <tbody>\n",
       "    <tr>\n",
       "      <th>0</th>\n",
       "      <td>0.011651</td>\n",
       "      <td>0.031047</td>\n",
       "      <td>0.017314</td>\n",
       "      <td>0.011856</td>\n",
       "      <td>0.023131</td>\n",
       "      <td>0.016347</td>\n",
       "      <td>0.013475</td>\n",
       "      <td>0.018407</td>\n",
       "      <td>0.036936</td>\n",
       "      <td>0.010820</td>\n",
       "      <td>think know thing could get even way</td>\n",
       "      <td>opinion</td>\n",
       "      <td>opinion</td>\n",
       "      <td>0.019098</td>\n",
       "    </tr>\n",
       "    <tr>\n",
       "      <th>1</th>\n",
       "      <td>0.024531</td>\n",
       "      <td>0.015711</td>\n",
       "      <td>0.017053</td>\n",
       "      <td>0.018924</td>\n",
       "      <td>0.010743</td>\n",
       "      <td>0.014995</td>\n",
       "      <td>0.015523</td>\n",
       "      <td>0.014298</td>\n",
       "      <td>0.011686</td>\n",
       "      <td>0.013621</td>\n",
       "      <td>officer police shot department incident san ki...</td>\n",
       "      <td>authority</td>\n",
       "      <td>police shooting</td>\n",
       "      <td>0.015709</td>\n",
       "    </tr>\n",
       "    <tr>\n",
       "      <th>2</th>\n",
       "      <td>0.008656</td>\n",
       "      <td>0.014588</td>\n",
       "      <td>0.010433</td>\n",
       "      <td>0.012159</td>\n",
       "      <td>0.008842</td>\n",
       "      <td>0.014715</td>\n",
       "      <td>0.019203</td>\n",
       "      <td>0.013009</td>\n",
       "      <td>0.014452</td>\n",
       "      <td>0.014167</td>\n",
       "      <td>student school high march florida parkland sto...</td>\n",
       "      <td>incident</td>\n",
       "      <td>parkland</td>\n",
       "      <td>0.013022</td>\n",
       "    </tr>\n",
       "  </tbody>\n",
       "</table>\n",
       "</div>"
      ],
      "text/plain": [
       "   atlantic     blaze  breitbart       fox    huffpo  inforwars     msnbc  \\\n",
       "0  0.011651  0.031047   0.017314  0.011856  0.023131   0.016347  0.013475   \n",
       "1  0.024531  0.015711   0.017053  0.018924  0.010743   0.014995  0.015523   \n",
       "2  0.008656  0.014588   0.010433  0.012159  0.008842   0.014715  0.019203   \n",
       "\n",
       "        npr       nyt       wsj  \\\n",
       "0  0.018407  0.036936  0.010820   \n",
       "1  0.014298  0.011686  0.013621   \n",
       "2  0.013009  0.014452  0.014167   \n",
       "\n",
       "                                              topics     global  \\\n",
       "0                think know thing could get even way    opinion   \n",
       "1  officer police shot department incident san ki...  authority   \n",
       "2  student school high march florida parkland sto...   incident   \n",
       "\n",
       "          specific       avg  \n",
       "0          opinion  0.019098  \n",
       "1  police shooting  0.015709  \n",
       "2         parkland  0.013022  "
      ]
     },
     "execution_count": 172,
     "metadata": {},
     "output_type": "execute_result"
    }
   ],
   "source": [
    "df.head(3)"
   ]
  },
  {
   "cell_type": "code",
   "execution_count": 173,
   "metadata": {},
   "outputs": [],
   "source": [
    "df['lib']=(df['nyt']+ df['npr']+ df['huffpo']+ df['atlantic']+ df['msnbc'])/5\n",
    "df['consv']=(df['fox'] +df['wsj']+ df['breitbart']+ df['inforwars']+ df['blaze'])/5\n"
   ]
  },
  {
   "cell_type": "code",
   "execution_count": 174,
   "metadata": {},
   "outputs": [],
   "source": [
    "df=df[df['global'] != 'meta']"
   ]
  },
  {
   "cell_type": "code",
   "execution_count": 175,
   "metadata": {},
   "outputs": [],
   "source": [
    "ltot=df['lib'].sum()\n",
    "ctot = df['consv'].sum()"
   ]
  },
  {
   "cell_type": "code",
   "execution_count": 176,
   "metadata": {},
   "outputs": [
    {
     "data": {
      "text/plain": [
       "pandas.core.frame.DataFrame"
      ]
     },
     "execution_count": 176,
     "metadata": {},
     "output_type": "execute_result"
    }
   ],
   "source": [
    "grp=df.groupby('global', as_index=False).sum()\n",
    "type(grp)\n"
   ]
  },
  {
   "cell_type": "code",
   "execution_count": 177,
   "metadata": {},
   "outputs": [],
   "source": [
    "ltot=grp['lib'].sum()\n",
    "ctot=grp['consv'].sum()"
   ]
  },
  {
   "cell_type": "code",
   "execution_count": 178,
   "metadata": {},
   "outputs": [
    {
     "name": "stdout",
     "output_type": "stream",
     "text": [
      "0.29655504380000003 0.2937248708\n"
     ]
    }
   ],
   "source": [
    "print(ltot, ctot)"
   ]
  },
  {
   "cell_type": "code",
   "execution_count": 194,
   "metadata": {},
   "outputs": [],
   "source": [
    "labels=grp['global']\n",
    "lx={}\n",
    "for k,v in zip(labels, grp['lib']):\n",
    "    v=int((v*100)/ltot)\n",
    "    lx[k]=v\n",
    "    \n",
    "cx={}\n",
    "for k,v in zip(labels, grp['consv']):\n",
    "    v=int((v*100)/ctot)\n",
    "    cx[k]=v\n"
   ]
  },
  {
   "cell_type": "code",
   "execution_count": 195,
   "metadata": {},
   "outputs": [
    {
     "name": "stderr",
     "output_type": "stream",
     "text": [
      "/anaconda3/lib/python3.6/site-packages/matplotlib/figure.py:2022: UserWarning: This figure includes Axes that are not compatible with tight_layout, so results might be incorrect.\n",
      "  warnings.warn(\"This figure includes Axes that are not compatible \"\n"
     ]
    },
    {
     "data": {
      "image/png": "[encoded data removed]",
      "text/plain": [
       "<pywaffle.waffle.Waffle at 0x1170e5ef0>"
      ]
     },
     "metadata": {},
     "output_type": "display_data"
    }
   ],
   "source": [
    "fig=plt.figure(FigureClass=pywaffle.Waffle, rows=10, columns=10,values=lx, \n",
    "title={'label':'Gun Control Topics in \"Liberal\" Media', 'loc':'left'},\n",
    "labels=[\"{0} ({1}%)\".format(k,v) for k,v in lx.items()],\n",
    "legend={'loc':'best', 'bbox_to_anchor':(1.55,.6)})\n",
    "fig.savefig('libgrid.png')"
   ]
  },
  {
   "cell_type": "code",
   "execution_count": 196,
   "metadata": {},
   "outputs": [
    {
     "name": "stderr",
     "output_type": "stream",
     "text": [
      "/anaconda3/lib/python3.6/site-packages/matplotlib/figure.py:2022: UserWarning: This figure includes Axes that are not compatible with tight_layout, so results might be incorrect.\n",
      "  warnings.warn(\"This figure includes Axes that are not compatible \"\n"
     ]
    },
    {
     "data": {
      "image/png": "[encoded data removed]",
      "text/plain": [
       "<pywaffle.waffle.Waffle at 0x1178bb668>"
      ]
     },
     "metadata": {},
     "output_type": "display_data"
    }
   ],
   "source": [
    "fig=plt.figure(FigureClass=pywaffle.Waffle, rows=10, columns=10,values=cx, \n",
    "title={'label':'Gun Control Topics in \"Conservative\" Media', 'loc':'left'},\n",
    "labels=[\"{0} ({1}%)\".format(k,v) for k,v in cx.items()],\n",
    "legend={'loc':'best', 'bbox_to_anchor':(1.55,.6)})\n",
    "fig.savefig('conservgrid.png')"
   ]
  },
  {
   "cell_type": "code",
   "execution_count": 190,
   "metadata": {},
   "outputs": [
    {
     "data": {
      "text/plain": [
       "2      parkland\n",
       "8      parkland\n",
       "16      chicago\n",
       "17        vegas\n",
       "19    sandyhook\n",
       "Name: specific, dtype: object"
      ]
     },
     "execution_count": 190,
     "metadata": {},
     "output_type": "execute_result"
    }
   ],
   "source": [
    "inlabel=df[df['global']=='incident']['specific']\n",
    "inltot=\n",
    "inctot="
   ]
  },
  {
   "cell_type": "code",
   "execution_count": 191,
   "metadata": {},
   "outputs": [],
   "source": [
    "inlx={}\n",
    "for k,v in zip(inlabel, df['lib']):\n",
    "    v=int((v*100)/ltot)\n",
    "    inlx[k]=v\n",
    "    \n",
    "incx={}\n",
    "for k,v in zip(inlabel, df['consv']):\n",
    "    v=int((v*100)/ltot)\n",
    "    incx[k]=v"
   ]
  },
  {
   "cell_type": "code",
   "execution_count": 193,
   "metadata": {},
   "outputs": [
    {
     "name": "stderr",
     "output_type": "stream",
     "text": [
      "/anaconda3/lib/python3.6/site-packages/matplotlib/figure.py:2022: UserWarning: This figure includes Axes that are not compatible with tight_layout, so results might be incorrect.\n",
      "  warnings.warn(\"This figure includes Axes that are not compatible \"\n"
     ]
    },
    {
     "data": {
      "image/png": "[encoded data removed]",
      "text/plain": [
       "<pywaffle.waffle.Waffle at 0x117994358>"
      ]
     },
     "metadata": {},
     "output_type": "display_data"
    }
   ],
   "source": [
    "fig=plt.figure(FigureClass=pywaffle.Waffle, rows=10, columns=10,values=inlx, \n",
    "title={'label':'Incident Topics in \"Liberal\" Media', 'loc':'left'},\n",
    "labels=[\"{0} ({1}%)\".format(k,v) for k,v in inlx.items()],\n",
    "legend={'loc':'best', 'bbox_to_anchor':(1.55,.6)})\n",
    "fig.savefig('inlibgrid.png')"
   ]
  },
  {
   "cell_type": "code",
   "execution_count": null,
   "metadata": {},
   "outputs": [],
   "source": []
  }
 ],
 "metadata": {
  "kernelspec": {
   "display_name": "Python 3",
   "language": "python",
   "name": "python3"
  },
  "language_info": {
   "codemirror_mode": {
    "name": "ipython",
    "version": 3
   },
   "file_extension": ".py",
   "mimetype": "text/x-python",
   "name": "python",
   "nbconvert_exporter": "python",
   "pygments_lexer": "ipython3",
   "version": "3.6.4"
  }
 },
 "nbformat": 4,
 "nbformat_minor": 2
}
